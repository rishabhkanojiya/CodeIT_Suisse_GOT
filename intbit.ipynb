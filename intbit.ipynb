{
 "cells": [
  {
   "cell_type": "code",
   "execution_count": 104,
   "metadata": {},
   "outputs": [],
   "source": [
    "#This project was done in Jupyter Notebook"
   ]
  },
  {
   "cell_type": "code",
   "execution_count": 1,
   "metadata": {},
   "outputs": [
    {
     "name": "stderr",
     "output_type": "stream",
     "text": [
      "Using TensorFlow backend.\n"
     ]
    }
   ],
   "source": [
    "import pandas as pd\n",
    "import numpy as np \n",
    "import matplotlib.pyplot as plt\n",
    "import seaborn as sns\n",
    "from  keras.models import Sequential\n",
    "from keras.layers import Dense,Dropout\n",
    "from keras.optimizers import Adam\n",
    "from keras.callbacks import TensorBoard\n",
    "import time"
   ]
  },
  {
   "cell_type": "code",
   "execution_count": 2,
   "metadata": {},
   "outputs": [],
   "source": [
    "%matplotlib inline"
   ]
  },
  {
   "cell_type": "code",
   "execution_count": 3,
   "metadata": {},
   "outputs": [],
   "source": [
    "train = pd.read_csv('train.csv')"
   ]
  },
  {
   "cell_type": "code",
   "execution_count": 4,
   "metadata": {
    "scrolled": true
   },
   "outputs": [
    {
     "data": {
      "text/html": [
       "<div>\n",
       "<style scoped>\n",
       "    .dataframe tbody tr th:only-of-type {\n",
       "        vertical-align: middle;\n",
       "    }\n",
       "\n",
       "    .dataframe tbody tr th {\n",
       "        vertical-align: top;\n",
       "    }\n",
       "\n",
       "    .dataframe thead th {\n",
       "        text-align: right;\n",
       "    }\n",
       "</style>\n",
       "<table border=\"1\" class=\"dataframe\">\n",
       "  <thead>\n",
       "    <tr style=\"text-align: right;\">\n",
       "      <th></th>\n",
       "      <th>soldierId</th>\n",
       "      <th>shipId</th>\n",
       "      <th>attackId</th>\n",
       "      <th>assists</th>\n",
       "      <th>greekFireItems</th>\n",
       "      <th>healthLost</th>\n",
       "      <th>knockedOutSoldiers</th>\n",
       "      <th>throatSlits</th>\n",
       "      <th>healingPotionsUsed</th>\n",
       "      <th>killRank</th>\n",
       "      <th>...</th>\n",
       "      <th>numSaves</th>\n",
       "      <th>horseRideDistance</th>\n",
       "      <th>horseRideKills</th>\n",
       "      <th>swimmingDistance</th>\n",
       "      <th>friendlyKills</th>\n",
       "      <th>castleTowerDestroys</th>\n",
       "      <th>onFootDistance</th>\n",
       "      <th>weaponsUsed</th>\n",
       "      <th>respectEarned</th>\n",
       "      <th>bestSoldierPerc</th>\n",
       "    </tr>\n",
       "  </thead>\n",
       "  <tbody>\n",
       "    <tr>\n",
       "      <th>0</th>\n",
       "      <td>0.0</td>\n",
       "      <td>24.0</td>\n",
       "      <td>0.0</td>\n",
       "      <td>0.0</td>\n",
       "      <td>5.0</td>\n",
       "      <td>247.30</td>\n",
       "      <td>2.0</td>\n",
       "      <td>0.0</td>\n",
       "      <td>4.0</td>\n",
       "      <td>17.0</td>\n",
       "      <td>...</td>\n",
       "      <td>1.0</td>\n",
       "      <td>591.3</td>\n",
       "      <td>0.0</td>\n",
       "      <td>0.0</td>\n",
       "      <td>0.0</td>\n",
       "      <td>0.0</td>\n",
       "      <td>782.40</td>\n",
       "      <td>4.0</td>\n",
       "      <td>1458.0</td>\n",
       "      <td>0.8571</td>\n",
       "    </tr>\n",
       "    <tr>\n",
       "      <th>1</th>\n",
       "      <td>1.0</td>\n",
       "      <td>440875.0</td>\n",
       "      <td>1.0</td>\n",
       "      <td>1.0</td>\n",
       "      <td>0.0</td>\n",
       "      <td>37.65</td>\n",
       "      <td>1.0</td>\n",
       "      <td>1.0</td>\n",
       "      <td>0.0</td>\n",
       "      <td>45.0</td>\n",
       "      <td>...</td>\n",
       "      <td>0.0</td>\n",
       "      <td>0.0</td>\n",
       "      <td>0.0</td>\n",
       "      <td>0.0</td>\n",
       "      <td>0.0</td>\n",
       "      <td>0.0</td>\n",
       "      <td>119.60</td>\n",
       "      <td>3.0</td>\n",
       "      <td>1511.0</td>\n",
       "      <td>0.0400</td>\n",
       "    </tr>\n",
       "    <tr>\n",
       "      <th>2</th>\n",
       "      <td>2.0</td>\n",
       "      <td>878242.0</td>\n",
       "      <td>2.0</td>\n",
       "      <td>0.0</td>\n",
       "      <td>1.0</td>\n",
       "      <td>93.73</td>\n",
       "      <td>1.0</td>\n",
       "      <td>0.0</td>\n",
       "      <td>2.0</td>\n",
       "      <td>54.0</td>\n",
       "      <td>...</td>\n",
       "      <td>1.0</td>\n",
       "      <td>0.0</td>\n",
       "      <td>0.0</td>\n",
       "      <td>0.0</td>\n",
       "      <td>0.0</td>\n",
       "      <td>0.0</td>\n",
       "      <td>3248.00</td>\n",
       "      <td>5.0</td>\n",
       "      <td>1583.0</td>\n",
       "      <td>0.7407</td>\n",
       "    </tr>\n",
       "    <tr>\n",
       "      <th>3</th>\n",
       "      <td>3.0</td>\n",
       "      <td>1319841.0</td>\n",
       "      <td>3.0</td>\n",
       "      <td>0.0</td>\n",
       "      <td>0.0</td>\n",
       "      <td>95.88</td>\n",
       "      <td>0.0</td>\n",
       "      <td>0.0</td>\n",
       "      <td>0.0</td>\n",
       "      <td>86.0</td>\n",
       "      <td>...</td>\n",
       "      <td>0.0</td>\n",
       "      <td>0.0</td>\n",
       "      <td>0.0</td>\n",
       "      <td>0.0</td>\n",
       "      <td>0.0</td>\n",
       "      <td>0.0</td>\n",
       "      <td>21.49</td>\n",
       "      <td>1.0</td>\n",
       "      <td>1489.0</td>\n",
       "      <td>0.1146</td>\n",
       "    </tr>\n",
       "    <tr>\n",
       "      <th>4</th>\n",
       "      <td>4.0</td>\n",
       "      <td>1757883.0</td>\n",
       "      <td>4.0</td>\n",
       "      <td>0.0</td>\n",
       "      <td>1.0</td>\n",
       "      <td>0.00</td>\n",
       "      <td>0.0</td>\n",
       "      <td>0.0</td>\n",
       "      <td>1.0</td>\n",
       "      <td>58.0</td>\n",
       "      <td>...</td>\n",
       "      <td>0.0</td>\n",
       "      <td>0.0</td>\n",
       "      <td>0.0</td>\n",
       "      <td>0.0</td>\n",
       "      <td>0.0</td>\n",
       "      <td>0.0</td>\n",
       "      <td>640.80</td>\n",
       "      <td>4.0</td>\n",
       "      <td>1475.0</td>\n",
       "      <td>0.5217</td>\n",
       "    </tr>\n",
       "  </tbody>\n",
       "</table>\n",
       "<p>5 rows × 25 columns</p>\n",
       "</div>"
      ],
      "text/plain": [
       "   soldierId     shipId  attackId  assists  greekFireItems  healthLost  \\\n",
       "0        0.0       24.0       0.0      0.0             5.0      247.30   \n",
       "1        1.0   440875.0       1.0      1.0             0.0       37.65   \n",
       "2        2.0   878242.0       2.0      0.0             1.0       93.73   \n",
       "3        3.0  1319841.0       3.0      0.0             0.0       95.88   \n",
       "4        4.0  1757883.0       4.0      0.0             1.0        0.00   \n",
       "\n",
       "   knockedOutSoldiers  throatSlits  healingPotionsUsed  killRank  \\\n",
       "0                 2.0          0.0                 4.0      17.0   \n",
       "1                 1.0          1.0                 0.0      45.0   \n",
       "2                 1.0          0.0                 2.0      54.0   \n",
       "3                 0.0          0.0                 0.0      86.0   \n",
       "4                 0.0          0.0                 1.0      58.0   \n",
       "\n",
       "        ...         numSaves  horseRideDistance  horseRideKills  \\\n",
       "0       ...              1.0              591.3             0.0   \n",
       "1       ...              0.0                0.0             0.0   \n",
       "2       ...              1.0                0.0             0.0   \n",
       "3       ...              0.0                0.0             0.0   \n",
       "4       ...              0.0                0.0             0.0   \n",
       "\n",
       "   swimmingDistance  friendlyKills  castleTowerDestroys  onFootDistance  \\\n",
       "0               0.0            0.0                  0.0          782.40   \n",
       "1               0.0            0.0                  0.0          119.60   \n",
       "2               0.0            0.0                  0.0         3248.00   \n",
       "3               0.0            0.0                  0.0           21.49   \n",
       "4               0.0            0.0                  0.0          640.80   \n",
       "\n",
       "   weaponsUsed  respectEarned  bestSoldierPerc  \n",
       "0          4.0         1458.0           0.8571  \n",
       "1          3.0         1511.0           0.0400  \n",
       "2          5.0         1583.0           0.7407  \n",
       "3          1.0         1489.0           0.1146  \n",
       "4          4.0         1475.0           0.5217  \n",
       "\n",
       "[5 rows x 25 columns]"
      ]
     },
     "execution_count": 4,
     "metadata": {},
     "output_type": "execute_result"
    }
   ],
   "source": [
    "train.head()"
   ]
  },
  {
   "cell_type": "code",
   "execution_count": 5,
   "metadata": {},
   "outputs": [],
   "source": [
    "X = train"
   ]
  },
  {
   "cell_type": "code",
   "execution_count": 69,
   "metadata": {
    "scrolled": true
   },
   "outputs": [
    {
     "name": "stdout",
     "output_type": "stream",
     "text": [
      "<class 'pandas.core.frame.DataFrame'>\n",
      "RangeIndex: 13716 entries, 0 to 13715\n",
      "Data columns (total 26 columns):\n",
      "Unnamed: 0             13716 non-null int64\n",
      "index                  13716 non-null int64\n",
      "soldierId              13716 non-null float64\n",
      "shipId                 13716 non-null float64\n",
      "attackId               13716 non-null float64\n",
      "assists                13716 non-null float64\n",
      "greekFireItems         13716 non-null float64\n",
      "healthLost             13716 non-null float64\n",
      "knockedOutSoldiers     13716 non-null float64\n",
      "throatSlits            13716 non-null float64\n",
      "healingPotionsUsed     13716 non-null float64\n",
      "killRank               13716 non-null float64\n",
      "killPoints             13716 non-null float64\n",
      "enemiesKilled          13716 non-null float64\n",
      "killingStreaks         13716 non-null float64\n",
      "farthermostKill        13716 non-null float64\n",
      "numShips               13716 non-null float64\n",
      "numSaves               13716 non-null float64\n",
      "horseRideDistance      13716 non-null float64\n",
      "horseRideKills         13716 non-null float64\n",
      "swimmingDistance       13716 non-null float64\n",
      "friendlyKills          13716 non-null float64\n",
      "castleTowerDestroys    13716 non-null float64\n",
      "onFootDistance         13716 non-null float64\n",
      "weaponsUsed            13716 non-null float64\n",
      "respectEarned          13716 non-null float64\n",
      "dtypes: float64(24), int64(2)\n",
      "memory usage: 2.7 MB\n"
     ]
    }
   ],
   "source": [
    "X.info()"
   ]
  },
  {
   "cell_type": "code",
   "execution_count": 70,
   "metadata": {},
   "outputs": [
    {
     "data": {
      "text/plain": [
       "<matplotlib.axes._subplots.AxesSubplot at 0x21f391d7390>"
      ]
     },
     "execution_count": 70,
     "metadata": {},
     "output_type": "execute_result"
    },
    {
     "data": {
      "image/png": "[encoded data removed]",
      "text/plain": [
       "<Figure size 432x288 with 2 Axes>"
      ]
     },
     "metadata": {
      "needs_background": "light"
     },
     "output_type": "display_data"
    }
   ],
   "source": [
    "#sns.heatmap(X.isnull())"
   ]
  },
  {
   "cell_type": "code",
   "execution_count": 8,
   "metadata": {},
   "outputs": [],
   "source": [
    "#sns.pairplot(X_train)"
   ]
  },
  {
   "cell_type": "code",
   "execution_count": 9,
   "metadata": {
    "scrolled": true
   },
   "outputs": [
    {
     "name": "stdout",
     "output_type": "stream",
     "text": [
      "<class 'pandas.core.frame.DataFrame'>\n",
      "RangeIndex: 4357336 entries, 0 to 4357335\n",
      "Data columns (total 25 columns):\n",
      "soldierId              float64\n",
      "shipId                 float64\n",
      "attackId               float64\n",
      "assists                float64\n",
      "greekFireItems         float64\n",
      "healthLost             float64\n",
      "knockedOutSoldiers     float64\n",
      "throatSlits            float64\n",
      "healingPotionsUsed     float64\n",
      "killRank               float64\n",
      "killPoints             float64\n",
      "enemiesKilled          float64\n",
      "killingStreaks         float64\n",
      "farthermostKill        float64\n",
      "numShips               float64\n",
      "numSaves               float64\n",
      "horseRideDistance      float64\n",
      "horseRideKills         float64\n",
      "swimmingDistance       float64\n",
      "friendlyKills          float64\n",
      "castleTowerDestroys    float64\n",
      "onFootDistance         float64\n",
      "weaponsUsed            float64\n",
      "respectEarned          float64\n",
      "bestSoldierPerc        float64\n",
      "dtypes: float64(25)\n",
      "memory usage: 831.1 MB\n"
     ]
    }
   ],
   "source": [
    "X.info()"
   ]
  },
  {
   "cell_type": "code",
   "execution_count": 71,
   "metadata": {},
   "outputs": [
    {
     "data": {
      "text/plain": [
       "Index(['Unnamed: 0', 'index', 'soldierId', 'shipId', 'attackId', 'assists',\n",
       "       'greekFireItems', 'healthLost', 'knockedOutSoldiers', 'throatSlits',\n",
       "       'healingPotionsUsed', 'killRank', 'killPoints', 'enemiesKilled',\n",
       "       'killingStreaks', 'farthermostKill', 'numShips', 'numSaves',\n",
       "       'horseRideDistance', 'horseRideKills', 'swimmingDistance',\n",
       "       'friendlyKills', 'castleTowerDestroys', 'onFootDistance', 'weaponsUsed',\n",
       "       'respectEarned'],\n",
       "      dtype='object')"
      ]
     },
     "execution_count": 71,
     "metadata": {},
     "output_type": "execute_result"
    }
   ],
   "source": [
    "X.columns"
   ]
  },
  {
   "cell_type": "code",
   "execution_count": 11,
   "metadata": {},
   "outputs": [],
   "source": [
    "cols = ['soldierId','shipId','attackId','horseRideDistance']"
   ]
  },
  {
   "cell_type": "code",
   "execution_count": 12,
   "metadata": {},
   "outputs": [],
   "source": [
    "X=X.drop(cols,axis=1)"
   ]
  },
  {
   "cell_type": "code",
   "execution_count": 13,
   "metadata": {},
   "outputs": [],
   "source": [
    "y = X['bestSoldierPerc']"
   ]
  },
  {
   "cell_type": "code",
   "execution_count": 14,
   "metadata": {},
   "outputs": [],
   "source": [
    "X =X.drop(['bestSoldierPerc'],axis=1)"
   ]
  },
  {
   "cell_type": "code",
   "execution_count": 15,
   "metadata": {},
   "outputs": [],
   "source": [
    "from sklearn.preprocessing import StandardScaler"
   ]
  },
  {
   "cell_type": "code",
   "execution_count": 16,
   "metadata": {},
   "outputs": [],
   "source": [
    "st = StandardScaler()"
   ]
  },
  {
   "cell_type": "code",
   "execution_count": 79,
   "metadata": {},
   "outputs": [],
   "source": [
    "X = st.fit_transform(X)"
   ]
  },
  {
   "cell_type": "code",
   "execution_count": 80,
   "metadata": {
    "scrolled": true
   },
   "outputs": [
    {
     "data": {
      "text/plain": [
       "array([[-0.41367533, -0.62590531, -0.18989026, ..., -0.54717412,\n",
       "         1.64439828, -0.01655131],\n",
       "       [-0.41367533,  0.03825354,  1.64318472, ..., -0.32996232,\n",
       "         0.29088064,  0.65235883],\n",
       "       [-0.41367533, -0.62590531, -0.80091526, ..., -0.86879219,\n",
       "        -1.062637  , -0.65973414],\n",
       "       ...,\n",
       "       [ 1.24295849, -0.62590531, -0.00719379, ..., -0.66954696,\n",
       "        -0.61146446,  0.009176  ],\n",
       "       [-0.41367533, -0.62590531, -0.80091526, ..., -0.83697526,\n",
       "        -0.61146446, -0.99418921],\n",
       "       [-0.41367533, -0.62590531, -0.80091526, ...,  1.78764408,\n",
       "         0.74205319, -0.29955176]])"
      ]
     },
     "execution_count": 80,
     "metadata": {},
     "output_type": "execute_result"
    }
   ],
   "source": [
    "X"
   ]
  },
  {
   "cell_type": "code",
   "execution_count": 19,
   "metadata": {},
   "outputs": [],
   "source": [
    "from sklearn.model_selection import train_test_split"
   ]
  },
  {
   "cell_type": "code",
   "execution_count": 20,
   "metadata": {},
   "outputs": [],
   "source": [
    "X_train,X_test,y_train,y_test = train_test_split(X,y,test_size = 0.15,random_state = 43)"
   ]
  },
  {
   "cell_type": "code",
   "execution_count": 21,
   "metadata": {},
   "outputs": [
    {
     "data": {
      "text/plain": [
       "20"
      ]
     },
     "execution_count": 21,
     "metadata": {},
     "output_type": "execute_result"
    }
   ],
   "source": [
    "n_col = X_train.shape[1]\n",
    "n_col"
   ]
  },
  {
   "cell_type": "code",
   "execution_count": 22,
   "metadata": {},
   "outputs": [],
   "source": [
    "from keras.layers import BatchNormalization\n",
    "import keras.backend as K"
   ]
  },
  {
   "cell_type": "code",
   "execution_count": 23,
   "metadata": {},
   "outputs": [],
   "source": [
    "K.clear_session()"
   ]
  },
  {
   "cell_type": "code",
   "execution_count": 24,
   "metadata": {},
   "outputs": [
    {
     "name": "stdout",
     "output_type": "stream",
     "text": [
      "WARNING:tensorflow:From C:\\Users\\risha\\Anaconda3\\lib\\site-packages\\tensorflow\\python\\framework\\op_def_library.py:263: colocate_with (from tensorflow.python.framework.ops) is deprecated and will be removed in a future version.\n",
      "Instructions for updating:\n",
      "Colocations handled automatically by placer.\n",
      "WARNING:tensorflow:From C:\\Users\\risha\\Anaconda3\\lib\\site-packages\\keras\\backend\\tensorflow_backend.py:3445: calling dropout (from tensorflow.python.ops.nn_ops) with keep_prob is deprecated and will be removed in a future version.\n",
      "Instructions for updating:\n",
      "Please use `rate` instead of `keep_prob`. Rate should be set to `rate = 1 - keep_prob`.\n"
     ]
    }
   ],
   "source": [
    "model = Sequential()\n",
    "model.add(Dense(12,input_shape = (n_col,),activation='relu'))\n",
    "model.add(Dense(12,activation='relu'))\n",
    "model.add(Dropout(0.2))\n",
    "model.add(Dense(12,activation='relu'))\n",
    "model.add(BatchNormalization())\n",
    "model.add(Dense(1))\n",
    "model.compile(Adam(lr=0.01),loss='mean_absolute_error',metrics=['accuracy'],)"
   ]
  },
  {
   "cell_type": "code",
   "execution_count": 25,
   "metadata": {},
   "outputs": [],
   "source": [
    "from keras.callbacks import EarlyStopping"
   ]
  },
  {
   "cell_type": "code",
   "execution_count": 26,
   "metadata": {},
   "outputs": [],
   "source": [
    "early_stopping_monitor = EarlyStopping(patience=3)"
   ]
  },
  {
   "cell_type": "code",
   "execution_count": 46,
   "metadata": {
    "scrolled": true
   },
   "outputs": [
    {
     "name": "stdout",
     "output_type": "stream",
     "text": [
      "Train on 2962988 samples, validate on 740747 samples\n",
      "Epoch 1/25\n",
      "2962988/2962988 [==============================] - 133s 45us/step - loss: 0.0906 - acc: 0.0810 - val_loss: 0.0844 - val_acc: 0.0812\n",
      "Epoch 2/25\n",
      "2962988/2962988 [==============================] - 132s 45us/step - loss: 0.0905 - acc: 0.0810 - val_loss: 0.0810 - val_acc: 0.0812\n",
      "Epoch 3/25\n",
      "2962988/2962988 [==============================] - 129s 44us/step - loss: 0.0906 - acc: 0.0810 - val_loss: 0.0751 - val_acc: 0.0812\n",
      "Epoch 4/25\n",
      "2962988/2962988 [==============================] - 128s 43us/step - loss: 0.0906 - acc: 0.0809 - val_loss: 0.0759 - val_acc: 0.0812\n",
      "Epoch 5/25\n",
      "2962988/2962988 [==============================] - 132s 45us/step - loss: 0.0908 - acc: 0.0810 - val_loss: 0.0886 - val_acc: 0.0811\n",
      "Epoch 6/25\n",
      "2962988/2962988 [==============================] - 131s 44us/step - loss: 0.0906 - acc: 0.0810 - val_loss: 0.0735 - val_acc: 0.0812\n",
      "Epoch 7/25\n",
      "2962988/2962988 [==============================] - 133s 45us/step - loss: 0.0907 - acc: 0.0810 - val_loss: 0.0838 - val_acc: 0.0812\n",
      "Epoch 8/25\n",
      "2962988/2962988 [==============================] - 136s 46us/step - loss: 0.0907 - acc: 0.0810 - val_loss: 0.0841 - val_acc: 0.0811\n",
      "Epoch 9/25\n",
      "2962988/2962988 [==============================] - 134s 45us/step - loss: 0.0901 - acc: 0.0810 - val_loss: 0.0772 - val_acc: 0.0812\n",
      "Epoch 10/25\n",
      "2962988/2962988 [==============================] - 133s 45us/step - loss: 0.0901 - acc: 0.0810 - val_loss: 0.0731 - val_acc: 0.0811\n",
      "Epoch 11/25\n",
      "2962988/2962988 [==============================] - 134s 45us/step - loss: 0.0903 - acc: 0.0810 - val_loss: 0.0771 - val_acc: 0.0812\n",
      "Epoch 12/25\n",
      "2962988/2962988 [==============================] - 134s 45us/step - loss: 0.0905 - acc: 0.0810 - val_loss: 0.0738 - val_acc: 0.0812\n",
      "Epoch 13/25\n",
      "2962988/2962988 [==============================] - 133s 45us/step - loss: 0.0905 - acc: 0.0810 - val_loss: 0.0770 - val_acc: 0.0812\n",
      "Epoch 14/25\n",
      "2962988/2962988 [==============================] - 132s 45us/step - loss: 0.0908 - acc: 0.0810 - val_loss: 0.0792 - val_acc: 0.0812\n",
      "Epoch 15/25\n",
      "2962988/2962988 [==============================] - 134s 45us/step - loss: 0.0905 - acc: 0.0810 - val_loss: 0.0829 - val_acc: 0.0812\n",
      "Epoch 16/25\n",
      "2962988/2962988 [==============================] - 136s 46us/step - loss: 0.0906 - acc: 0.0810 - val_loss: 0.0725 - val_acc: 0.0812\n",
      "Epoch 17/25\n",
      "2962988/2962988 [==============================] - 131s 44us/step - loss: 0.0904 - acc: 0.0810 - val_loss: 0.0806 - val_acc: 0.0812\n",
      "Epoch 18/25\n",
      "2962988/2962988 [==============================] - 132s 44us/step - loss: 0.0904 - acc: 0.0810 - val_loss: 0.0734 - val_acc: 0.0812\n",
      "Epoch 19/25\n",
      "2962988/2962988 [==============================] - 133s 45us/step - loss: 0.0905 - acc: 0.0810 - val_loss: 0.0804 - val_acc: 0.0812\n",
      "Epoch 20/25\n",
      "2962988/2962988 [==============================] - 134s 45us/step - loss: 0.0903 - acc: 0.0810 - val_loss: 0.0804 - val_acc: 0.0812\n",
      "Epoch 21/25\n",
      "2962988/2962988 [==============================] - 135s 46us/step - loss: 0.0905 - acc: 0.0810 - val_loss: 0.0752 - val_acc: 0.0812\n",
      "Epoch 22/25\n",
      "2962988/2962988 [==============================] - 134s 45us/step - loss: 0.0907 - acc: 0.0810 - val_loss: 0.0870 - val_acc: 0.0812\n",
      "Epoch 23/25\n",
      "2962988/2962988 [==============================] - 135s 46us/step - loss: 0.0909 - acc: 0.0810 - val_loss: 0.0812 - val_acc: 0.0812\n",
      "Epoch 24/25\n",
      "2962988/2962988 [==============================] - 137s 46us/step - loss: 0.0909 - acc: 0.0811 - val_loss: 0.0923 - val_acc: 0.0812\n",
      "Epoch 25/25\n",
      "2962988/2962988 [==============================] - 138s 47us/step - loss: 0.0908 - acc: 0.0810 - val_loss: 0.0822 - val_acc: 0.0812\n"
     ]
    },
    {
     "data": {
      "text/plain": [
       "<keras.callbacks.History at 0x21ec39d53c8>"
      ]
     },
     "execution_count": 46,
     "metadata": {},
     "output_type": "execute_result"
    }
   ],
   "source": [
    "model.fit(X_train,y_train, validation_split=0.2, epochs=25)"
   ]
  },
  {
   "cell_type": "code",
   "execution_count": 62,
   "metadata": {},
   "outputs": [],
   "source": [
    "#model.save('intbit.h5')"
   ]
  },
  {
   "cell_type": "code",
   "execution_count": 47,
   "metadata": {},
   "outputs": [],
   "source": [
    "pred = model.predict(X_test)"
   ]
  },
  {
   "cell_type": "code",
   "execution_count": 48,
   "metadata": {},
   "outputs": [
    {
     "data": {
      "text/plain": [
       "array([[0.19554639],\n",
       "       [0.16668364],\n",
       "       [0.51156956],\n",
       "       ...,\n",
       "       [0.8752296 ],\n",
       "       [0.8508376 ],\n",
       "       [0.8002273 ]], dtype=float32)"
      ]
     },
     "execution_count": 48,
     "metadata": {},
     "output_type": "execute_result"
    }
   ],
   "source": [
    "pred"
   ]
  },
  {
   "cell_type": "code",
   "execution_count": 39,
   "metadata": {},
   "outputs": [],
   "source": [
    "#from sklearn.ensemble import RandomForestRegressor"
   ]
  },
  {
   "cell_type": "code",
   "execution_count": 40,
   "metadata": {},
   "outputs": [],
   "source": [
    "#rfr = RandomForestRegressor(n_estimators=100)"
   ]
  },
  {
   "cell_type": "code",
   "execution_count": 41,
   "metadata": {},
   "outputs": [],
   "source": [
    "#rfr.fit(X_train,y_train)"
   ]
  },
  {
   "cell_type": "code",
   "execution_count": 42,
   "metadata": {},
   "outputs": [],
   "source": [
    "#pred = rfr.predict(X_test)"
   ]
  },
  {
   "cell_type": "code",
   "execution_count": 43,
   "metadata": {},
   "outputs": [],
   "source": [
    "from sklearn.metrics import mean_absolute_error"
   ]
  },
  {
   "cell_type": "code",
   "execution_count": 88,
   "metadata": {
    "scrolled": true
   },
   "outputs": [
    {
     "data": {
      "text/plain": [
       "0.08208486518563717"
      ]
     },
     "execution_count": 88,
     "metadata": {},
     "output_type": "execute_result"
    }
   ],
   "source": [
    "mean_absolute_error(y_test,pred)"
   ]
  },
  {
   "cell_type": "code",
   "execution_count": 61,
   "metadata": {},
   "outputs": [
    {
     "data": {
      "text/plain": [
       "array([[0.19554639],\n",
       "       [0.16668364],\n",
       "       [0.51156956],\n",
       "       ...,\n",
       "       [0.8752296 ],\n",
       "       [0.8508376 ],\n",
       "       [0.8002273 ]], dtype=float32)"
      ]
     },
     "execution_count": 61,
     "metadata": {},
     "output_type": "execute_result"
    }
   ],
   "source": [
    "pred"
   ]
  },
  {
   "cell_type": "code",
   "execution_count": 52,
   "metadata": {
    "collapsed": true
   },
   "outputs": [
    {
     "data": {
      "text/plain": [
       "3174790    0.1923\n",
       "1897919    0.1413\n",
       "721452     0.5517\n",
       "526369     0.1429\n",
       "3285949    0.1481\n",
       "2762563    0.6735\n",
       "2947307    0.6522\n",
       "260017     0.6207\n",
       "1760132    0.0000\n",
       "1229122    0.3061\n",
       "1034120    0.2947\n",
       "2558567    0.2268\n",
       "3367098    0.1034\n",
       "2006051    0.6735\n",
       "2943944    1.0000\n",
       "3771465    0.0345\n",
       "4229014    0.5417\n",
       "3291260    0.1957\n",
       "1641102    0.2917\n",
       "1606595    0.0435\n",
       "461906     0.4583\n",
       "2120474    0.1020\n",
       "1764351    0.7586\n",
       "2087621    0.0000\n",
       "3411173    0.8387\n",
       "705928     0.9375\n",
       "23065      0.0741\n",
       "2268930    1.0000\n",
       "2392213    0.0204\n",
       "3395873    0.4444\n",
       "            ...  \n",
       "1256265    0.9583\n",
       "3904908    0.6154\n",
       "328737     0.7391\n",
       "2150089    0.9167\n",
       "3079295    0.0217\n",
       "2990536    0.6667\n",
       "1764404    0.4490\n",
       "4089023    0.0385\n",
       "752437     0.7692\n",
       "2030588    0.0714\n",
       "185109     0.3125\n",
       "1006237    0.0417\n",
       "2176653    0.4157\n",
       "1972661    1.0000\n",
       "3810814    0.0000\n",
       "402846     0.8493\n",
       "2676556    0.4479\n",
       "2953150    0.1064\n",
       "703162     0.6250\n",
       "2472333    0.7778\n",
       "3647125    0.0370\n",
       "163343     0.3191\n",
       "2401925    1.0000\n",
       "4067394    0.1333\n",
       "2761289    0.5357\n",
       "3782599    0.7931\n",
       "2807559    0.1923\n",
       "3377680    0.8958\n",
       "891003     0.9130\n",
       "3836555    0.8621\n",
       "Name: bestSoldierPerc, Length: 653601, dtype: float64"
      ]
     },
     "execution_count": 52,
     "metadata": {},
     "output_type": "execute_result"
    }
   ],
   "source": [
    "y_test"
   ]
  },
  {
   "cell_type": "code",
   "execution_count": 63,
   "metadata": {},
   "outputs": [],
   "source": [
    "test = pd.read_csv('test.csv')"
   ]
  },
  {
   "cell_type": "code",
   "execution_count": 91,
   "metadata": {},
   "outputs": [],
   "source": [
    "soid = test['soldierId']"
   ]
  },
  {
   "cell_type": "code",
   "execution_count": 67,
   "metadata": {
    "scrolled": true
   },
   "outputs": [
    {
     "name": "stdout",
     "output_type": "stream",
     "text": [
      "<class 'pandas.core.frame.DataFrame'>\n",
      "RangeIndex: 13716 entries, 0 to 13715\n",
      "Data columns (total 26 columns):\n",
      "Unnamed: 0             13716 non-null int64\n",
      "index                  13716 non-null int64\n",
      "soldierId              13716 non-null float64\n",
      "shipId                 13716 non-null float64\n",
      "attackId               13716 non-null float64\n",
      "assists                13716 non-null float64\n",
      "greekFireItems         13716 non-null float64\n",
      "healthLost             13716 non-null float64\n",
      "knockedOutSoldiers     13716 non-null float64\n",
      "throatSlits            13716 non-null float64\n",
      "healingPotionsUsed     13716 non-null float64\n",
      "killRank               13716 non-null float64\n",
      "killPoints             13716 non-null float64\n",
      "enemiesKilled          13716 non-null float64\n",
      "killingStreaks         13716 non-null float64\n",
      "farthermostKill        13716 non-null float64\n",
      "numShips               13716 non-null float64\n",
      "numSaves               13716 non-null float64\n",
      "horseRideDistance      13716 non-null float64\n",
      "horseRideKills         13716 non-null float64\n",
      "swimmingDistance       13716 non-null float64\n",
      "friendlyKills          13716 non-null float64\n",
      "castleTowerDestroys    13716 non-null float64\n",
      "onFootDistance         13716 non-null float64\n",
      "weaponsUsed            13716 non-null float64\n",
      "respectEarned          13716 non-null float64\n",
      "dtypes: float64(24), int64(2)\n",
      "memory usage: 2.7 MB\n"
     ]
    }
   ],
   "source": [
    "test.info()"
   ]
  },
  {
   "cell_type": "code",
   "execution_count": 68,
   "metadata": {},
   "outputs": [],
   "source": [
    "X = test"
   ]
  },
  {
   "cell_type": "code",
   "execution_count": 73,
   "metadata": {},
   "outputs": [
    {
     "data": {
      "text/plain": [
       "Index(['Unnamed: 0', 'index', 'soldierId', 'shipId', 'attackId', 'assists',\n",
       "       'greekFireItems', 'healthLost', 'knockedOutSoldiers', 'throatSlits',\n",
       "       'healingPotionsUsed', 'killRank', 'killPoints', 'enemiesKilled',\n",
       "       'killingStreaks', 'farthermostKill', 'numShips', 'numSaves',\n",
       "       'horseRideDistance', 'horseRideKills', 'swimmingDistance',\n",
       "       'friendlyKills', 'castleTowerDestroys', 'onFootDistance', 'weaponsUsed',\n",
       "       'respectEarned'],\n",
       "      dtype='object')"
      ]
     },
     "execution_count": 73,
     "metadata": {},
     "output_type": "execute_result"
    }
   ],
   "source": [
    "X.columns"
   ]
  },
  {
   "cell_type": "code",
   "execution_count": 74,
   "metadata": {},
   "outputs": [],
   "source": [
    "cols = ['Unnamed: 0', 'index','soldierId','shipId','attackId','horseRideDistance']"
   ]
  },
  {
   "cell_type": "code",
   "execution_count": 75,
   "metadata": {},
   "outputs": [],
   "source": [
    "X=X.drop(cols,axis=1)"
   ]
  },
  {
   "cell_type": "code",
   "execution_count": null,
   "metadata": {},
   "outputs": [],
   "source": [
    "X = st.fit_transform(X)"
   ]
  },
  {
   "cell_type": "code",
   "execution_count": null,
   "metadata": {},
   "outputs": [],
   "source": [
    "X"
   ]
  },
  {
   "cell_type": "code",
   "execution_count": 81,
   "metadata": {},
   "outputs": [],
   "source": [
    "predt = model.predict(X)"
   ]
  },
  {
   "cell_type": "code",
   "execution_count": 82,
   "metadata": {},
   "outputs": [
    {
     "data": {
      "text/plain": [
       "array([[0.42044187],\n",
       "       [0.5307311 ],\n",
       "       [0.24703282],\n",
       "       ...,\n",
       "       [0.2583816 ],\n",
       "       [0.18211466],\n",
       "       [0.8002273 ]], dtype=float32)"
      ]
     },
     "execution_count": 82,
     "metadata": {},
     "output_type": "execute_result"
    }
   ],
   "source": [
    "predt"
   ]
  },
  {
   "cell_type": "code",
   "execution_count": 94,
   "metadata": {
    "scrolled": true
   },
   "outputs": [
    {
     "data": {
      "text/html": [
       "<div>\n",
       "<style scoped>\n",
       "    .dataframe tbody tr th:only-of-type {\n",
       "        vertical-align: middle;\n",
       "    }\n",
       "\n",
       "    .dataframe tbody tr th {\n",
       "        vertical-align: top;\n",
       "    }\n",
       "\n",
       "    .dataframe thead th {\n",
       "        text-align: right;\n",
       "    }\n",
       "</style>\n",
       "<table border=\"1\" class=\"dataframe\">\n",
       "  <thead>\n",
       "    <tr style=\"text-align: right;\">\n",
       "      <th></th>\n",
       "      <th>bestSoldierPerc</th>\n",
       "    </tr>\n",
       "    <tr>\n",
       "      <th>soldierId</th>\n",
       "      <th></th>\n",
       "    </tr>\n",
       "  </thead>\n",
       "  <tbody>\n",
       "    <tr>\n",
       "      <th>47734.0</th>\n",
       "      <td>0.420442</td>\n",
       "    </tr>\n",
       "    <tr>\n",
       "      <th>47735.0</th>\n",
       "      <td>0.530731</td>\n",
       "    </tr>\n",
       "    <tr>\n",
       "      <th>47736.0</th>\n",
       "      <td>0.247033</td>\n",
       "    </tr>\n",
       "    <tr>\n",
       "      <th>47737.0</th>\n",
       "      <td>0.299098</td>\n",
       "    </tr>\n",
       "    <tr>\n",
       "      <th>47738.0</th>\n",
       "      <td>0.134223</td>\n",
       "    </tr>\n",
       "    <tr>\n",
       "      <th>47739.0</th>\n",
       "      <td>0.018832</td>\n",
       "    </tr>\n",
       "    <tr>\n",
       "      <th>47740.0</th>\n",
       "      <td>0.182255</td>\n",
       "    </tr>\n",
       "    <tr>\n",
       "      <th>47741.0</th>\n",
       "      <td>0.244347</td>\n",
       "    </tr>\n",
       "    <tr>\n",
       "      <th>47742.0</th>\n",
       "      <td>0.804957</td>\n",
       "    </tr>\n",
       "    <tr>\n",
       "      <th>47743.0</th>\n",
       "      <td>0.377418</td>\n",
       "    </tr>\n",
       "    <tr>\n",
       "      <th>47744.0</th>\n",
       "      <td>0.814927</td>\n",
       "    </tr>\n",
       "    <tr>\n",
       "      <th>47745.0</th>\n",
       "      <td>0.007715</td>\n",
       "    </tr>\n",
       "    <tr>\n",
       "      <th>47746.0</th>\n",
       "      <td>0.137533</td>\n",
       "    </tr>\n",
       "    <tr>\n",
       "      <th>47747.0</th>\n",
       "      <td>0.393835</td>\n",
       "    </tr>\n",
       "    <tr>\n",
       "      <th>47748.0</th>\n",
       "      <td>0.189669</td>\n",
       "    </tr>\n",
       "    <tr>\n",
       "      <th>47749.0</th>\n",
       "      <td>0.768831</td>\n",
       "    </tr>\n",
       "    <tr>\n",
       "      <th>47750.0</th>\n",
       "      <td>0.804021</td>\n",
       "    </tr>\n",
       "    <tr>\n",
       "      <th>47751.0</th>\n",
       "      <td>0.773828</td>\n",
       "    </tr>\n",
       "    <tr>\n",
       "      <th>47752.0</th>\n",
       "      <td>0.103094</td>\n",
       "    </tr>\n",
       "    <tr>\n",
       "      <th>47753.0</th>\n",
       "      <td>0.866155</td>\n",
       "    </tr>\n",
       "    <tr>\n",
       "      <th>47754.0</th>\n",
       "      <td>0.176746</td>\n",
       "    </tr>\n",
       "    <tr>\n",
       "      <th>47755.0</th>\n",
       "      <td>0.202176</td>\n",
       "    </tr>\n",
       "    <tr>\n",
       "      <th>47756.0</th>\n",
       "      <td>0.153470</td>\n",
       "    </tr>\n",
       "    <tr>\n",
       "      <th>47757.0</th>\n",
       "      <td>0.942397</td>\n",
       "    </tr>\n",
       "    <tr>\n",
       "      <th>47758.0</th>\n",
       "      <td>0.219357</td>\n",
       "    </tr>\n",
       "    <tr>\n",
       "      <th>47759.0</th>\n",
       "      <td>0.380403</td>\n",
       "    </tr>\n",
       "    <tr>\n",
       "      <th>47760.0</th>\n",
       "      <td>0.566694</td>\n",
       "    </tr>\n",
       "    <tr>\n",
       "      <th>47761.0</th>\n",
       "      <td>0.521150</td>\n",
       "    </tr>\n",
       "    <tr>\n",
       "      <th>47762.0</th>\n",
       "      <td>0.798911</td>\n",
       "    </tr>\n",
       "    <tr>\n",
       "      <th>47763.0</th>\n",
       "      <td>0.202142</td>\n",
       "    </tr>\n",
       "    <tr>\n",
       "      <th>...</th>\n",
       "      <td>...</td>\n",
       "    </tr>\n",
       "    <tr>\n",
       "      <th>6210792.0</th>\n",
       "      <td>0.079905</td>\n",
       "    </tr>\n",
       "    <tr>\n",
       "      <th>6210793.0</th>\n",
       "      <td>0.829825</td>\n",
       "    </tr>\n",
       "    <tr>\n",
       "      <th>6210794.0</th>\n",
       "      <td>-0.020140</td>\n",
       "    </tr>\n",
       "    <tr>\n",
       "      <th>6210795.0</th>\n",
       "      <td>0.033372</td>\n",
       "    </tr>\n",
       "    <tr>\n",
       "      <th>6210796.0</th>\n",
       "      <td>0.145646</td>\n",
       "    </tr>\n",
       "    <tr>\n",
       "      <th>6210797.0</th>\n",
       "      <td>0.859142</td>\n",
       "    </tr>\n",
       "    <tr>\n",
       "      <th>6210798.0</th>\n",
       "      <td>-0.020399</td>\n",
       "    </tr>\n",
       "    <tr>\n",
       "      <th>6210799.0</th>\n",
       "      <td>0.323566</td>\n",
       "    </tr>\n",
       "    <tr>\n",
       "      <th>6220690.0</th>\n",
       "      <td>0.295271</td>\n",
       "    </tr>\n",
       "    <tr>\n",
       "      <th>6220691.0</th>\n",
       "      <td>0.705420</td>\n",
       "    </tr>\n",
       "    <tr>\n",
       "      <th>6220692.0</th>\n",
       "      <td>0.177025</td>\n",
       "    </tr>\n",
       "    <tr>\n",
       "      <th>6220693.0</th>\n",
       "      <td>0.362316</td>\n",
       "    </tr>\n",
       "    <tr>\n",
       "      <th>6220694.0</th>\n",
       "      <td>0.075445</td>\n",
       "    </tr>\n",
       "    <tr>\n",
       "      <th>6220695.0</th>\n",
       "      <td>-0.008221</td>\n",
       "    </tr>\n",
       "    <tr>\n",
       "      <th>6220696.0</th>\n",
       "      <td>-0.016385</td>\n",
       "    </tr>\n",
       "    <tr>\n",
       "      <th>6220697.0</th>\n",
       "      <td>-0.027082</td>\n",
       "    </tr>\n",
       "    <tr>\n",
       "      <th>6220698.0</th>\n",
       "      <td>0.775733</td>\n",
       "    </tr>\n",
       "    <tr>\n",
       "      <th>6220699.0</th>\n",
       "      <td>0.268208</td>\n",
       "    </tr>\n",
       "    <tr>\n",
       "      <th>6220700.0</th>\n",
       "      <td>0.353250</td>\n",
       "    </tr>\n",
       "    <tr>\n",
       "      <th>6220701.0</th>\n",
       "      <td>0.407817</td>\n",
       "    </tr>\n",
       "    <tr>\n",
       "      <th>6220702.0</th>\n",
       "      <td>0.655529</td>\n",
       "    </tr>\n",
       "    <tr>\n",
       "      <th>6220703.0</th>\n",
       "      <td>0.759602</td>\n",
       "    </tr>\n",
       "    <tr>\n",
       "      <th>6220704.0</th>\n",
       "      <td>0.053017</td>\n",
       "    </tr>\n",
       "    <tr>\n",
       "      <th>6220705.0</th>\n",
       "      <td>0.254508</td>\n",
       "    </tr>\n",
       "    <tr>\n",
       "      <th>6220706.0</th>\n",
       "      <td>0.108969</td>\n",
       "    </tr>\n",
       "    <tr>\n",
       "      <th>6220707.0</th>\n",
       "      <td>-0.030814</td>\n",
       "    </tr>\n",
       "    <tr>\n",
       "      <th>6224523.0</th>\n",
       "      <td>0.121302</td>\n",
       "    </tr>\n",
       "    <tr>\n",
       "      <th>6224524.0</th>\n",
       "      <td>0.258382</td>\n",
       "    </tr>\n",
       "    <tr>\n",
       "      <th>6224525.0</th>\n",
       "      <td>0.182115</td>\n",
       "    </tr>\n",
       "    <tr>\n",
       "      <th>6224526.0</th>\n",
       "      <td>0.800227</td>\n",
       "    </tr>\n",
       "  </tbody>\n",
       "</table>\n",
       "<p>13716 rows × 1 columns</p>\n",
       "</div>"
      ],
      "text/plain": [
       "           bestSoldierPerc\n",
       "soldierId                 \n",
       "47734.0           0.420442\n",
       "47735.0           0.530731\n",
       "47736.0           0.247033\n",
       "47737.0           0.299098\n",
       "47738.0           0.134223\n",
       "47739.0           0.018832\n",
       "47740.0           0.182255\n",
       "47741.0           0.244347\n",
       "47742.0           0.804957\n",
       "47743.0           0.377418\n",
       "47744.0           0.814927\n",
       "47745.0           0.007715\n",
       "47746.0           0.137533\n",
       "47747.0           0.393835\n",
       "47748.0           0.189669\n",
       "47749.0           0.768831\n",
       "47750.0           0.804021\n",
       "47751.0           0.773828\n",
       "47752.0           0.103094\n",
       "47753.0           0.866155\n",
       "47754.0           0.176746\n",
       "47755.0           0.202176\n",
       "47756.0           0.153470\n",
       "47757.0           0.942397\n",
       "47758.0           0.219357\n",
       "47759.0           0.380403\n",
       "47760.0           0.566694\n",
       "47761.0           0.521150\n",
       "47762.0           0.798911\n",
       "47763.0           0.202142\n",
       "...                    ...\n",
       "6210792.0         0.079905\n",
       "6210793.0         0.829825\n",
       "6210794.0        -0.020140\n",
       "6210795.0         0.033372\n",
       "6210796.0         0.145646\n",
       "6210797.0         0.859142\n",
       "6210798.0        -0.020399\n",
       "6210799.0         0.323566\n",
       "6220690.0         0.295271\n",
       "6220691.0         0.705420\n",
       "6220692.0         0.177025\n",
       "6220693.0         0.362316\n",
       "6220694.0         0.075445\n",
       "6220695.0        -0.008221\n",
       "6220696.0        -0.016385\n",
       "6220697.0        -0.027082\n",
       "6220698.0         0.775733\n",
       "6220699.0         0.268208\n",
       "6220700.0         0.353250\n",
       "6220701.0         0.407817\n",
       "6220702.0         0.655529\n",
       "6220703.0         0.759602\n",
       "6220704.0         0.053017\n",
       "6220705.0         0.254508\n",
       "6220706.0         0.108969\n",
       "6220707.0        -0.030814\n",
       "6224523.0         0.121302\n",
       "6224524.0         0.258382\n",
       "6224525.0         0.182115\n",
       "6224526.0         0.800227\n",
       "\n",
       "[13716 rows x 1 columns]"
      ]
     },
     "execution_count": 94,
     "metadata": {},
     "output_type": "execute_result"
    }
   ],
   "source": [
    "pd.DataFrame(data=predt,index=soid,columns=['bestSoldierPerc'])"
   ]
  },
  {
   "cell_type": "code",
   "execution_count": 95,
   "metadata": {},
   "outputs": [],
   "source": [
    "subsp = pd.read_csv('sample_submission.csv')"
   ]
  },
  {
   "cell_type": "code",
   "execution_count": 99,
   "metadata": {},
   "outputs": [],
   "source": [
    "subsp['bestSoldierPerc'] = predt"
   ]
  },
  {
   "cell_type": "code",
   "execution_count": 100,
   "metadata": {
    "scrolled": true
   },
   "outputs": [
    {
     "data": {
      "text/html": [
       "<div>\n",
       "<style scoped>\n",
       "    .dataframe tbody tr th:only-of-type {\n",
       "        vertical-align: middle;\n",
       "    }\n",
       "\n",
       "    .dataframe tbody tr th {\n",
       "        vertical-align: top;\n",
       "    }\n",
       "\n",
       "    .dataframe thead th {\n",
       "        text-align: right;\n",
       "    }\n",
       "</style>\n",
       "<table border=\"1\" class=\"dataframe\">\n",
       "  <thead>\n",
       "    <tr style=\"text-align: right;\">\n",
       "      <th></th>\n",
       "      <th>soldierId</th>\n",
       "      <th>bestSoldierPerc</th>\n",
       "    </tr>\n",
       "  </thead>\n",
       "  <tbody>\n",
       "    <tr>\n",
       "      <th>0</th>\n",
       "      <td>47734</td>\n",
       "      <td>0.420442</td>\n",
       "    </tr>\n",
       "    <tr>\n",
       "      <th>1</th>\n",
       "      <td>47735</td>\n",
       "      <td>0.530731</td>\n",
       "    </tr>\n",
       "    <tr>\n",
       "      <th>2</th>\n",
       "      <td>47736</td>\n",
       "      <td>0.247033</td>\n",
       "    </tr>\n",
       "    <tr>\n",
       "      <th>3</th>\n",
       "      <td>47737</td>\n",
       "      <td>0.299098</td>\n",
       "    </tr>\n",
       "    <tr>\n",
       "      <th>4</th>\n",
       "      <td>47738</td>\n",
       "      <td>0.134223</td>\n",
       "    </tr>\n",
       "    <tr>\n",
       "      <th>5</th>\n",
       "      <td>47739</td>\n",
       "      <td>0.018832</td>\n",
       "    </tr>\n",
       "    <tr>\n",
       "      <th>6</th>\n",
       "      <td>47740</td>\n",
       "      <td>0.182255</td>\n",
       "    </tr>\n",
       "    <tr>\n",
       "      <th>7</th>\n",
       "      <td>47741</td>\n",
       "      <td>0.244347</td>\n",
       "    </tr>\n",
       "    <tr>\n",
       "      <th>8</th>\n",
       "      <td>47742</td>\n",
       "      <td>0.804957</td>\n",
       "    </tr>\n",
       "    <tr>\n",
       "      <th>9</th>\n",
       "      <td>47743</td>\n",
       "      <td>0.377418</td>\n",
       "    </tr>\n",
       "    <tr>\n",
       "      <th>10</th>\n",
       "      <td>47744</td>\n",
       "      <td>0.814927</td>\n",
       "    </tr>\n",
       "    <tr>\n",
       "      <th>11</th>\n",
       "      <td>47745</td>\n",
       "      <td>0.007715</td>\n",
       "    </tr>\n",
       "    <tr>\n",
       "      <th>12</th>\n",
       "      <td>47746</td>\n",
       "      <td>0.137533</td>\n",
       "    </tr>\n",
       "    <tr>\n",
       "      <th>13</th>\n",
       "      <td>47747</td>\n",
       "      <td>0.393835</td>\n",
       "    </tr>\n",
       "    <tr>\n",
       "      <th>14</th>\n",
       "      <td>47748</td>\n",
       "      <td>0.189669</td>\n",
       "    </tr>\n",
       "    <tr>\n",
       "      <th>15</th>\n",
       "      <td>47749</td>\n",
       "      <td>0.768831</td>\n",
       "    </tr>\n",
       "    <tr>\n",
       "      <th>16</th>\n",
       "      <td>47750</td>\n",
       "      <td>0.804021</td>\n",
       "    </tr>\n",
       "    <tr>\n",
       "      <th>17</th>\n",
       "      <td>47751</td>\n",
       "      <td>0.773828</td>\n",
       "    </tr>\n",
       "    <tr>\n",
       "      <th>18</th>\n",
       "      <td>47752</td>\n",
       "      <td>0.103094</td>\n",
       "    </tr>\n",
       "    <tr>\n",
       "      <th>19</th>\n",
       "      <td>47753</td>\n",
       "      <td>0.866155</td>\n",
       "    </tr>\n",
       "    <tr>\n",
       "      <th>20</th>\n",
       "      <td>47754</td>\n",
       "      <td>0.176746</td>\n",
       "    </tr>\n",
       "    <tr>\n",
       "      <th>21</th>\n",
       "      <td>47755</td>\n",
       "      <td>0.202176</td>\n",
       "    </tr>\n",
       "    <tr>\n",
       "      <th>22</th>\n",
       "      <td>47756</td>\n",
       "      <td>0.153470</td>\n",
       "    </tr>\n",
       "    <tr>\n",
       "      <th>23</th>\n",
       "      <td>47757</td>\n",
       "      <td>0.942397</td>\n",
       "    </tr>\n",
       "    <tr>\n",
       "      <th>24</th>\n",
       "      <td>47758</td>\n",
       "      <td>0.219357</td>\n",
       "    </tr>\n",
       "    <tr>\n",
       "      <th>25</th>\n",
       "      <td>47759</td>\n",
       "      <td>0.380403</td>\n",
       "    </tr>\n",
       "    <tr>\n",
       "      <th>26</th>\n",
       "      <td>47760</td>\n",
       "      <td>0.566694</td>\n",
       "    </tr>\n",
       "    <tr>\n",
       "      <th>27</th>\n",
       "      <td>47761</td>\n",
       "      <td>0.521150</td>\n",
       "    </tr>\n",
       "    <tr>\n",
       "      <th>28</th>\n",
       "      <td>47762</td>\n",
       "      <td>0.798911</td>\n",
       "    </tr>\n",
       "    <tr>\n",
       "      <th>29</th>\n",
       "      <td>47763</td>\n",
       "      <td>0.202142</td>\n",
       "    </tr>\n",
       "    <tr>\n",
       "      <th>...</th>\n",
       "      <td>...</td>\n",
       "      <td>...</td>\n",
       "    </tr>\n",
       "    <tr>\n",
       "      <th>13686</th>\n",
       "      <td>6210792</td>\n",
       "      <td>0.079905</td>\n",
       "    </tr>\n",
       "    <tr>\n",
       "      <th>13687</th>\n",
       "      <td>6210793</td>\n",
       "      <td>0.829825</td>\n",
       "    </tr>\n",
       "    <tr>\n",
       "      <th>13688</th>\n",
       "      <td>6210794</td>\n",
       "      <td>-0.020140</td>\n",
       "    </tr>\n",
       "    <tr>\n",
       "      <th>13689</th>\n",
       "      <td>6210795</td>\n",
       "      <td>0.033372</td>\n",
       "    </tr>\n",
       "    <tr>\n",
       "      <th>13690</th>\n",
       "      <td>6210796</td>\n",
       "      <td>0.145646</td>\n",
       "    </tr>\n",
       "    <tr>\n",
       "      <th>13691</th>\n",
       "      <td>6210797</td>\n",
       "      <td>0.859142</td>\n",
       "    </tr>\n",
       "    <tr>\n",
       "      <th>13692</th>\n",
       "      <td>6210798</td>\n",
       "      <td>-0.020399</td>\n",
       "    </tr>\n",
       "    <tr>\n",
       "      <th>13693</th>\n",
       "      <td>6210799</td>\n",
       "      <td>0.323566</td>\n",
       "    </tr>\n",
       "    <tr>\n",
       "      <th>13694</th>\n",
       "      <td>6220690</td>\n",
       "      <td>0.295271</td>\n",
       "    </tr>\n",
       "    <tr>\n",
       "      <th>13695</th>\n",
       "      <td>6220691</td>\n",
       "      <td>0.705420</td>\n",
       "    </tr>\n",
       "    <tr>\n",
       "      <th>13696</th>\n",
       "      <td>6220692</td>\n",
       "      <td>0.177025</td>\n",
       "    </tr>\n",
       "    <tr>\n",
       "      <th>13697</th>\n",
       "      <td>6220693</td>\n",
       "      <td>0.362316</td>\n",
       "    </tr>\n",
       "    <tr>\n",
       "      <th>13698</th>\n",
       "      <td>6220694</td>\n",
       "      <td>0.075445</td>\n",
       "    </tr>\n",
       "    <tr>\n",
       "      <th>13699</th>\n",
       "      <td>6220695</td>\n",
       "      <td>-0.008221</td>\n",
       "    </tr>\n",
       "    <tr>\n",
       "      <th>13700</th>\n",
       "      <td>6220696</td>\n",
       "      <td>-0.016385</td>\n",
       "    </tr>\n",
       "    <tr>\n",
       "      <th>13701</th>\n",
       "      <td>6220697</td>\n",
       "      <td>-0.027082</td>\n",
       "    </tr>\n",
       "    <tr>\n",
       "      <th>13702</th>\n",
       "      <td>6220698</td>\n",
       "      <td>0.775733</td>\n",
       "    </tr>\n",
       "    <tr>\n",
       "      <th>13703</th>\n",
       "      <td>6220699</td>\n",
       "      <td>0.268208</td>\n",
       "    </tr>\n",
       "    <tr>\n",
       "      <th>13704</th>\n",
       "      <td>6220700</td>\n",
       "      <td>0.353250</td>\n",
       "    </tr>\n",
       "    <tr>\n",
       "      <th>13705</th>\n",
       "      <td>6220701</td>\n",
       "      <td>0.407817</td>\n",
       "    </tr>\n",
       "    <tr>\n",
       "      <th>13706</th>\n",
       "      <td>6220702</td>\n",
       "      <td>0.655529</td>\n",
       "    </tr>\n",
       "    <tr>\n",
       "      <th>13707</th>\n",
       "      <td>6220703</td>\n",
       "      <td>0.759602</td>\n",
       "    </tr>\n",
       "    <tr>\n",
       "      <th>13708</th>\n",
       "      <td>6220704</td>\n",
       "      <td>0.053017</td>\n",
       "    </tr>\n",
       "    <tr>\n",
       "      <th>13709</th>\n",
       "      <td>6220705</td>\n",
       "      <td>0.254508</td>\n",
       "    </tr>\n",
       "    <tr>\n",
       "      <th>13710</th>\n",
       "      <td>6220706</td>\n",
       "      <td>0.108969</td>\n",
       "    </tr>\n",
       "    <tr>\n",
       "      <th>13711</th>\n",
       "      <td>6220707</td>\n",
       "      <td>-0.030814</td>\n",
       "    </tr>\n",
       "    <tr>\n",
       "      <th>13712</th>\n",
       "      <td>6224523</td>\n",
       "      <td>0.121302</td>\n",
       "    </tr>\n",
       "    <tr>\n",
       "      <th>13713</th>\n",
       "      <td>6224524</td>\n",
       "      <td>0.258382</td>\n",
       "    </tr>\n",
       "    <tr>\n",
       "      <th>13714</th>\n",
       "      <td>6224525</td>\n",
       "      <td>0.182115</td>\n",
       "    </tr>\n",
       "    <tr>\n",
       "      <th>13715</th>\n",
       "      <td>6224526</td>\n",
       "      <td>0.800227</td>\n",
       "    </tr>\n",
       "  </tbody>\n",
       "</table>\n",
       "<p>13716 rows × 2 columns</p>\n",
       "</div>"
      ],
      "text/plain": [
       "       soldierId  bestSoldierPerc\n",
       "0          47734         0.420442\n",
       "1          47735         0.530731\n",
       "2          47736         0.247033\n",
       "3          47737         0.299098\n",
       "4          47738         0.134223\n",
       "5          47739         0.018832\n",
       "6          47740         0.182255\n",
       "7          47741         0.244347\n",
       "8          47742         0.804957\n",
       "9          47743         0.377418\n",
       "10         47744         0.814927\n",
       "11         47745         0.007715\n",
       "12         47746         0.137533\n",
       "13         47747         0.393835\n",
       "14         47748         0.189669\n",
       "15         47749         0.768831\n",
       "16         47750         0.804021\n",
       "17         47751         0.773828\n",
       "18         47752         0.103094\n",
       "19         47753         0.866155\n",
       "20         47754         0.176746\n",
       "21         47755         0.202176\n",
       "22         47756         0.153470\n",
       "23         47757         0.942397\n",
       "24         47758         0.219357\n",
       "25         47759         0.380403\n",
       "26         47760         0.566694\n",
       "27         47761         0.521150\n",
       "28         47762         0.798911\n",
       "29         47763         0.202142\n",
       "...          ...              ...\n",
       "13686    6210792         0.079905\n",
       "13687    6210793         0.829825\n",
       "13688    6210794        -0.020140\n",
       "13689    6210795         0.033372\n",
       "13690    6210796         0.145646\n",
       "13691    6210797         0.859142\n",
       "13692    6210798        -0.020399\n",
       "13693    6210799         0.323566\n",
       "13694    6220690         0.295271\n",
       "13695    6220691         0.705420\n",
       "13696    6220692         0.177025\n",
       "13697    6220693         0.362316\n",
       "13698    6220694         0.075445\n",
       "13699    6220695        -0.008221\n",
       "13700    6220696        -0.016385\n",
       "13701    6220697        -0.027082\n",
       "13702    6220698         0.775733\n",
       "13703    6220699         0.268208\n",
       "13704    6220700         0.353250\n",
       "13705    6220701         0.407817\n",
       "13706    6220702         0.655529\n",
       "13707    6220703         0.759602\n",
       "13708    6220704         0.053017\n",
       "13709    6220705         0.254508\n",
       "13710    6220706         0.108969\n",
       "13711    6220707        -0.030814\n",
       "13712    6224523         0.121302\n",
       "13713    6224524         0.258382\n",
       "13714    6224525         0.182115\n",
       "13715    6224526         0.800227\n",
       "\n",
       "[13716 rows x 2 columns]"
      ]
     },
     "execution_count": 100,
     "metadata": {},
     "output_type": "execute_result"
    }
   ],
   "source": [
    "subsp"
   ]
  },
  {
   "cell_type": "code",
   "execution_count": 103,
   "metadata": {},
   "outputs": [],
   "source": [
    "subsp.to_csv('final.csv',index=False)"
   ]
  }
 ],
 "metadata": {
  "kernelspec": {
   "display_name": "Python 3",
   "language": "python",
   "name": "python3"
  },
  "language_info": {
   "codemirror_mode": {
    "name": "ipython",
    "version": 3
   },
   "file_extension": ".py",
   "mimetype": "text/x-python",
   "name": "python",
   "nbconvert_exporter": "python",
   "pygments_lexer": "ipython3",
   "version": "3.7.1"
  }
 },
 "nbformat": 4,
 "nbformat_minor": 2
}
